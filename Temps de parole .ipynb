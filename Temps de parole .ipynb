{
 "cells": [
  {
   "cell_type": "code",
   "execution_count": 1,
   "id": "45d41ff5",
   "metadata": {},
   "outputs": [],
   "source": [
    "import pandas as pd \n",
    "import plotly.express as px"
   ]
  },
  {
   "cell_type": "markdown",
   "id": "16311178",
   "metadata": {},
   "source": [
    "À partir des sorties du modèle cette fonction calcule le temps de parole de chaque locuteur"
   ]
  },
  {
   "cell_type": "code",
   "execution_count": 2,
   "id": "8024f570",
   "metadata": {},
   "outputs": [],
   "source": [
    "def get_tmps(df) : \n",
    "    voice_count=df.speaker.unique()\n",
    "    temps= pd.DataFrame(columns=['Locuteur','Temps de parole'])\n",
    "    k=0\n",
    "    for i in voice_count : \n",
    "      data=df.where(df.speaker==i)\n",
    "      data['temps']=data['end']-data['start']\n",
    "      temps=temps.append({'Temps de parole': data['temps'].sum()},ignore_index=True)\n",
    "      temps.iloc[k,0]=i\n",
    "      k=k+1\n",
    "    fig = px.pie(temps,values='Temps de parole', names='Locuteur',title='Distribution du temps de parole',width=700, height=300)\n",
    "    fig=fig.update_traces(textinfo=\"percent+label\")\n",
    "    fig.show()\n",
    "    return temps"
   ]
  },
  {
   "cell_type": "code",
   "execution_count": null,
   "id": "a8cf8c55",
   "metadata": {},
   "outputs": [],
   "source": []
  }
 ],
 "metadata": {
  "kernelspec": {
   "display_name": "Python 3 (ipykernel)",
   "language": "python",
   "name": "python3"
  },
  "language_info": {
   "codemirror_mode": {
    "name": "ipython",
    "version": 3
   },
   "file_extension": ".py",
   "mimetype": "text/x-python",
   "name": "python",
   "nbconvert_exporter": "python",
   "pygments_lexer": "ipython3",
   "version": "3.9.7"
  }
 },
 "nbformat": 4,
 "nbformat_minor": 5
}
