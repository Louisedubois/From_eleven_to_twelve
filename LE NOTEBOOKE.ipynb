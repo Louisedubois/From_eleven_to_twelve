{
 "cells": [
  {
   "cell_type": "markdown",
   "id": "844881a9",
   "metadata": {},
   "source": [
    "### Import our function to perform predictions, refer to the utils.py file for details on the code"
   ]
  },
  {
   "cell_type": "code",
   "execution_count": 1,
   "id": "a0cc6047",
   "metadata": {},
   "outputs": [
    {
     "name": "stderr",
     "output_type": "stream",
     "text": [
      "/home/stagiaire/anaconda3/envs/hackatoche/lib/python3.9/site-packages/pydub/utils.py:170: RuntimeWarning: Couldn't find ffmpeg or avconv - defaulting to ffmpeg, but may not work\n",
      "  warn(\"Couldn't find ffmpeg or avconv - defaulting to ffmpeg, but may not work\", RuntimeWarning)\n"
     ]
    }
   ],
   "source": [
    "from utils import make_all_preds, count_speakers"
   ]
  },
  {
   "cell_type": "markdown",
   "id": "65f12eac",
   "metadata": {},
   "source": [
    "### Other useful imports"
   ]
  },
  {
   "cell_type": "code",
   "execution_count": 2,
   "id": "5349deb1",
   "metadata": {},
   "outputs": [],
   "source": [
    "import os\n",
    "import pandas as pd\n",
    "import numpy as np"
   ]
  },
  {
   "cell_type": "markdown",
   "id": "3fc636f2",
   "metadata": {},
   "source": [
    "### Change here for the path to the folder containing your data"
   ]
  },
  {
   "cell_type": "code",
   "execution_count": 3,
   "id": "d69f8029",
   "metadata": {},
   "outputs": [],
   "source": [
    "data_root = 'data'"
   ]
  },
  {
   "cell_type": "markdown",
   "id": "940ff130",
   "metadata": {},
   "source": [
    "## To perform the count on a single .wav file \n",
    "\n",
    "returns the desired dictionary\n",
    "\n",
    "**enjoy the ✨ warnings ✨**"
   ]
  },
  {
   "cell_type": "code",
   "execution_count": 4,
   "id": "24c7a52f",
   "metadata": {},
   "outputs": [
    {
     "name": "stdout",
     "output_type": "stream",
     "text": [
      "Loaded the voice encoder model on cpu in 0.01 seconds.\n"
     ]
    },
    {
     "name": "stderr",
     "output_type": "stream",
     "text": [
      "/home/stagiaire/anaconda3/envs/hackatoche/lib/python3.9/site-packages/resemblyzer/audio.py:33: FutureWarning: Pass orig_sr=11025, target_sr=16000 as keyword args. From version 0.10 passing these as positional arguments will result in an error\n",
      "  wav = librosa.resample(wav, source_sr, sampling_rate)\n",
      "/home/stagiaire/anaconda3/envs/hackatoche/lib/python3.9/site-packages/resemblyzer/audio.py:47: FutureWarning: Pass y=[ 0.0077671  -0.00073034 -0.01106744 ...  0.          0.\n",
      "  0.        ], sr=16000 as keyword args. From version 0.10 passing these as positional arguments will result in an error\n",
      "  frames = librosa.feature.melspectrogram(\n",
      "/home/stagiaire/anaconda3/envs/hackatoche/lib/python3.9/site-packages/resemblyzer/audio.py:47: FutureWarning: Pass y=[ 0.0077671   0.00326725 -0.00767576 ...  0.01264879  0.01623766\n",
      "  0.00843984], sr=16000 as keyword args. From version 0.10 passing these as positional arguments will result in an error\n",
      "  frames = librosa.feature.melspectrogram(\n"
     ]
    },
    {
     "data": {
      "text/plain": [
       "{'F': 1, 'M': 0}"
      ]
     },
     "execution_count": 4,
     "metadata": {},
     "output_type": "execute_result"
    }
   ],
   "source": [
    "count_speakers(os.path.join(data_root, 'moviesoundclips', '6.wav')) #path to your file"
   ]
  },
  {
   "cell_type": "markdown",
   "id": "2ec4ce6d",
   "metadata": {},
   "source": [
    "## To perform the count on all points of the dataset\n",
    "\n",
    "returns a dataframe containing the filename, true labels as well as predicted speakers and sexes.\n",
    "The function needs the *referential_movies_subtitles_with_gender.xlsx* file in the same folder as the *.wav* files.\n",
    "\n",
    "**enjoy the ✨ warnings ✨ (again)**"
   ]
  },
  {
   "cell_type": "code",
   "execution_count": 5,
   "id": "a3fd1b2a",
   "metadata": {
    "scrolled": false
   },
   "outputs": [
    {
     "name": "stdout",
     "output_type": "stream",
     "text": [
      "Loaded the voice encoder model on cpu in 0.01 seconds.\n"
     ]
    },
    {
     "name": "stderr",
     "output_type": "stream",
     "text": [
      "  0%|                                                                                                                                                                                | 0/8 [00:00<?, ?it/s]/home/stagiaire/anaconda3/envs/hackatoche/lib/python3.9/site-packages/resemblyzer/audio.py:33: FutureWarning: Pass orig_sr=11025, target_sr=16000 as keyword args. From version 0.10 passing these as positional arguments will result in an error\n",
      "  wav = librosa.resample(wav, source_sr, sampling_rate)\n",
      "/home/stagiaire/anaconda3/envs/hackatoche/lib/python3.9/site-packages/resemblyzer/audio.py:47: FutureWarning: Pass y=[ 7.0512492e-06  3.5625715e-05 -4.3875185e-05 ...  0.0000000e+00\n",
      "  0.0000000e+00  0.0000000e+00], sr=16000 as keyword args. From version 0.10 passing these as positional arguments will result in an error\n",
      "  frames = librosa.feature.melspectrogram(\n",
      "/home/stagiaire/anaconda3/envs/hackatoche/lib/python3.9/site-packages/resemblyzer/audio.py:47: FutureWarning: Pass y=[7.051249e-06 4.343449e-05 4.186789e-08 ... 0.000000e+00 0.000000e+00\n",
      " 0.000000e+00], sr=16000 as keyword args. From version 0.10 passing these as positional arguments will result in an error\n",
      "  frames = librosa.feature.melspectrogram(\n",
      " 12%|█████████████████████                                                                                                                                                   | 1/8 [00:00<00:01,  5.50it/s]/home/stagiaire/anaconda3/envs/hackatoche/lib/python3.9/site-packages/resemblyzer/audio.py:33: FutureWarning: Pass orig_sr=11025, target_sr=16000 as keyword args. From version 0.10 passing these as positional arguments will result in an error\n",
      "  wav = librosa.resample(wav, source_sr, sampling_rate)\n",
      "/home/stagiaire/anaconda3/envs/hackatoche/lib/python3.9/site-packages/resemblyzer/audio.py:47: FutureWarning: Pass y=[0.00797785 0.00866597 0.00680679 ... 0.         0.         0.        ], sr=16000 as keyword args. From version 0.10 passing these as positional arguments will result in an error\n",
      "  frames = librosa.feature.melspectrogram(\n",
      "/home/stagiaire/anaconda3/envs/hackatoche/lib/python3.9/site-packages/resemblyzer/audio.py:47: FutureWarning: Pass y=[ 0.00797785  0.00908811  0.00759952 ...  0.02717515  0.00823178\n",
      " -0.00151734], sr=16000 as keyword args. From version 0.10 passing these as positional arguments will result in an error\n",
      "  frames = librosa.feature.melspectrogram(\n",
      " 25%|██████████████████████████████████████████                                                                                                                              | 2/8 [00:00<00:01,  4.87it/s]/home/stagiaire/anaconda3/envs/hackatoche/lib/python3.9/site-packages/resemblyzer/audio.py:33: FutureWarning: Pass orig_sr=11025, target_sr=16000 as keyword args. From version 0.10 passing these as positional arguments will result in an error\n",
      "  wav = librosa.resample(wav, source_sr, sampling_rate)\n",
      "/home/stagiaire/anaconda3/envs/hackatoche/lib/python3.9/site-packages/resemblyzer/audio.py:47: FutureWarning: Pass y=[0.07304604 0.06639861 0.06056455 ... 0.         0.         0.        ], sr=16000 as keyword args. From version 0.10 passing these as positional arguments will result in an error\n",
      "  frames = librosa.feature.melspectrogram(\n",
      "/home/stagiaire/anaconda3/envs/hackatoche/lib/python3.9/site-packages/resemblyzer/audio.py:47: FutureWarning: Pass y=[0.07304604 0.07128393 0.05994491 ... 0.         0.         0.        ], sr=16000 as keyword args. From version 0.10 passing these as positional arguments will result in an error\n",
      "  frames = librosa.feature.melspectrogram(\n",
      " 38%|███████████████████████████████████████████████████████████████                                                                                                         | 3/8 [00:01<00:02,  2.30it/s]/home/stagiaire/anaconda3/envs/hackatoche/lib/python3.9/site-packages/resemblyzer/audio.py:33: FutureWarning: Pass orig_sr=11025, target_sr=16000 as keyword args. From version 0.10 passing these as positional arguments will result in an error\n",
      "  wav = librosa.resample(wav, source_sr, sampling_rate)\n",
      "/home/stagiaire/anaconda3/envs/hackatoche/lib/python3.9/site-packages/resemblyzer/audio.py:47: FutureWarning: Pass y=[ 0.0077671  -0.00073034 -0.01106744 ...  0.          0.\n",
      "  0.        ], sr=16000 as keyword args. From version 0.10 passing these as positional arguments will result in an error\n",
      "  frames = librosa.feature.melspectrogram(\n",
      "/home/stagiaire/anaconda3/envs/hackatoche/lib/python3.9/site-packages/resemblyzer/audio.py:47: FutureWarning: Pass y=[ 0.0077671   0.00326725 -0.00767576 ...  0.01264879  0.01623766\n",
      "  0.00843984], sr=16000 as keyword args. From version 0.10 passing these as positional arguments will result in an error\n",
      "  frames = librosa.feature.melspectrogram(\n",
      " 50%|████████████████████████████████████████████████████████████████████████████████████                                                                                    | 4/8 [00:02<00:02,  1.39it/s]/home/stagiaire/anaconda3/envs/hackatoche/lib/python3.9/site-packages/resemblyzer/audio.py:33: FutureWarning: Pass orig_sr=11025, target_sr=16000 as keyword args. From version 0.10 passing these as positional arguments will result in an error\n",
      "  wav = librosa.resample(wav, source_sr, sampling_rate)\n",
      "/home/stagiaire/anaconda3/envs/hackatoche/lib/python3.9/site-packages/resemblyzer/audio.py:47: FutureWarning: Pass y=[-0.00775826 -0.00883509 -0.00688228 ...  0.          0.\n",
      "  0.        ], sr=16000 as keyword args. From version 0.10 passing these as positional arguments will result in an error\n",
      "  frames = librosa.feature.melspectrogram(\n",
      "/home/stagiaire/anaconda3/envs/hackatoche/lib/python3.9/site-packages/resemblyzer/audio.py:47: FutureWarning: Pass y=[-0.00775826 -0.00913265 -0.00785227 ...  0.00640304  0.00027324\n",
      " -0.00245308], sr=16000 as keyword args. From version 0.10 passing these as positional arguments will result in an error\n",
      "  frames = librosa.feature.melspectrogram(\n",
      " 62%|█████████████████████████████████████████████████████████████████████████████████████████████████████████                                                               | 5/8 [00:02<00:02,  1.49it/s]/home/stagiaire/anaconda3/envs/hackatoche/lib/python3.9/site-packages/resemblyzer/audio.py:33: FutureWarning: Pass orig_sr=11025, target_sr=16000 as keyword args. From version 0.10 passing these as positional arguments will result in an error\n",
      "  wav = librosa.resample(wav, source_sr, sampling_rate)\n",
      "/home/stagiaire/anaconda3/envs/hackatoche/lib/python3.9/site-packages/resemblyzer/audio.py:47: FutureWarning: Pass y=[ 3.5515695e-04 -4.4253020e-04 -2.9901041e-05 ...  0.0000000e+00\n",
      "  0.0000000e+00  0.0000000e+00], sr=16000 as keyword args. From version 0.10 passing these as positional arguments will result in an error\n",
      "  frames = librosa.feature.melspectrogram(\n",
      "/home/stagiaire/anaconda3/envs/hackatoche/lib/python3.9/site-packages/resemblyzer/audio.py:47: FutureWarning: Pass y=[ 0.00035516 -0.00025935 -0.0004621  ...  0.01057959  0.02006885\n",
      "  0.01663458], sr=16000 as keyword args. From version 0.10 passing these as positional arguments will result in an error\n",
      "  frames = librosa.feature.melspectrogram(\n",
      " 75%|██████████████████████████████████████████████████████████████████████████████████████████████████████████████████████████████                                          | 6/8 [00:05<00:02,  1.21s/it]/home/stagiaire/anaconda3/envs/hackatoche/lib/python3.9/site-packages/resemblyzer/audio.py:33: FutureWarning: Pass orig_sr=11025, target_sr=16000 as keyword args. From version 0.10 passing these as positional arguments will result in an error\n",
      "  wav = librosa.resample(wav, source_sr, sampling_rate)\n",
      "/home/stagiaire/anaconda3/envs/hackatoche/lib/python3.9/site-packages/resemblyzer/audio.py:47: FutureWarning: Pass y=[0.00082712 0.01014584 0.01866149 ... 0.         0.         0.        ], sr=16000 as keyword args. From version 0.10 passing these as positional arguments will result in an error\n",
      "  frames = librosa.feature.melspectrogram(\n",
      "/home/stagiaire/anaconda3/envs/hackatoche/lib/python3.9/site-packages/resemblyzer/audio.py:47: FutureWarning: Pass y=[0.00082712 0.0072351  0.01472548 ... 0.         0.         0.        ], sr=16000 as keyword args. From version 0.10 passing these as positional arguments will result in an error\n",
      "  frames = librosa.feature.melspectrogram(\n"
     ]
    },
    {
     "name": "stderr",
     "output_type": "stream",
     "text": [
      " 88%|███████████████████████████████████████████████████████████████████████████████████████████████████████████████████████████████████████████████████                     | 7/8 [00:05<00:00,  1.14it/s]/home/stagiaire/anaconda3/envs/hackatoche/lib/python3.9/site-packages/resemblyzer/audio.py:33: FutureWarning: Pass orig_sr=11025, target_sr=16000 as keyword args. From version 0.10 passing these as positional arguments will result in an error\n",
      "  wav = librosa.resample(wav, source_sr, sampling_rate)\n",
      "/home/stagiaire/anaconda3/envs/hackatoche/lib/python3.9/site-packages/resemblyzer/audio.py:47: FutureWarning: Pass y=[ 0.00099606  0.00095422 -0.00304923 ...  0.          0.\n",
      "  0.        ], sr=16000 as keyword args. From version 0.10 passing these as positional arguments will result in an error\n",
      "  frames = librosa.feature.melspectrogram(\n",
      "/home/stagiaire/anaconda3/envs/hackatoche/lib/python3.9/site-packages/resemblyzer/audio.py:47: FutureWarning: Pass y=[ 0.00099606  0.00167859 -0.00107149 ... -0.02357665 -0.02185898\n",
      " -0.01376662], sr=16000 as keyword args. From version 0.10 passing these as positional arguments will result in an error\n",
      "  frames = librosa.feature.melspectrogram(\n",
      "100%|████████████████████████████████████████████████████████████████████████████████████████████████████████████████████████████████████████████████████████████████████████| 8/8 [00:06<00:00,  1.31it/s]\n"
     ]
    }
   ],
   "source": [
    "full_preds_df = make_all_preds(os.path.join(data_root, 'moviesoundclips'))"
   ]
  },
  {
   "cell_type": "code",
   "execution_count": 6,
   "id": "fa596457",
   "metadata": {},
   "outputs": [
    {
     "data": {
      "text/html": [
       "<div>\n",
       "<style scoped>\n",
       "    .dataframe tbody tr th:only-of-type {\n",
       "        vertical-align: middle;\n",
       "    }\n",
       "\n",
       "    .dataframe tbody tr th {\n",
       "        vertical-align: top;\n",
       "    }\n",
       "\n",
       "    .dataframe thead th {\n",
       "        text-align: right;\n",
       "    }\n",
       "</style>\n",
       "<table border=\"1\" class=\"dataframe\">\n",
       "  <thead>\n",
       "    <tr style=\"text-align: right;\">\n",
       "      <th></th>\n",
       "      <th>sound_clip_id</th>\n",
       "      <th>y_M</th>\n",
       "      <th>y_F</th>\n",
       "      <th>y_NA</th>\n",
       "      <th>y_NB</th>\n",
       "      <th>pred_F</th>\n",
       "      <th>pred_M</th>\n",
       "    </tr>\n",
       "  </thead>\n",
       "  <tbody>\n",
       "    <tr>\n",
       "      <th>0</th>\n",
       "      <td>2</td>\n",
       "      <td>0</td>\n",
       "      <td>1</td>\n",
       "      <td>0</td>\n",
       "      <td>0</td>\n",
       "      <td>1</td>\n",
       "      <td>0</td>\n",
       "    </tr>\n",
       "    <tr>\n",
       "      <th>1</th>\n",
       "      <td>4</td>\n",
       "      <td>1</td>\n",
       "      <td>0</td>\n",
       "      <td>0</td>\n",
       "      <td>0</td>\n",
       "      <td>1</td>\n",
       "      <td>0</td>\n",
       "    </tr>\n",
       "    <tr>\n",
       "      <th>2</th>\n",
       "      <td>5</td>\n",
       "      <td>3</td>\n",
       "      <td>0</td>\n",
       "      <td>0</td>\n",
       "      <td>0</td>\n",
       "      <td>0</td>\n",
       "      <td>2</td>\n",
       "    </tr>\n",
       "    <tr>\n",
       "      <th>3</th>\n",
       "      <td>6</td>\n",
       "      <td>1</td>\n",
       "      <td>0</td>\n",
       "      <td>0</td>\n",
       "      <td>0</td>\n",
       "      <td>1</td>\n",
       "      <td>0</td>\n",
       "    </tr>\n",
       "    <tr>\n",
       "      <th>4</th>\n",
       "      <td>7</td>\n",
       "      <td>2</td>\n",
       "      <td>0</td>\n",
       "      <td>0</td>\n",
       "      <td>0</td>\n",
       "      <td>2</td>\n",
       "      <td>0</td>\n",
       "    </tr>\n",
       "    <tr>\n",
       "      <th>5</th>\n",
       "      <td>9</td>\n",
       "      <td>1</td>\n",
       "      <td>0</td>\n",
       "      <td>0</td>\n",
       "      <td>0</td>\n",
       "      <td>0</td>\n",
       "      <td>2</td>\n",
       "    </tr>\n",
       "    <tr>\n",
       "      <th>6</th>\n",
       "      <td>11</td>\n",
       "      <td>1</td>\n",
       "      <td>0</td>\n",
       "      <td>0</td>\n",
       "      <td>0</td>\n",
       "      <td>0</td>\n",
       "      <td>1</td>\n",
       "    </tr>\n",
       "    <tr>\n",
       "      <th>7</th>\n",
       "      <td>12</td>\n",
       "      <td>2</td>\n",
       "      <td>0</td>\n",
       "      <td>0</td>\n",
       "      <td>0</td>\n",
       "      <td>2</td>\n",
       "      <td>0</td>\n",
       "    </tr>\n",
       "  </tbody>\n",
       "</table>\n",
       "</div>"
      ],
      "text/plain": [
       "  sound_clip_id y_M y_F y_NA y_NB pred_F pred_M\n",
       "0             2   0   1    0    0      1      0\n",
       "1             4   1   0    0    0      1      0\n",
       "2             5   3   0    0    0      0      2\n",
       "3             6   1   0    0    0      1      0\n",
       "4             7   2   0    0    0      2      0\n",
       "5             9   1   0    0    0      0      2\n",
       "6            11   1   0    0    0      0      1\n",
       "7            12   2   0    0    0      2      0"
      ]
     },
     "execution_count": 6,
     "metadata": {},
     "output_type": "execute_result"
    }
   ],
   "source": [
    "full_preds_df"
   ]
  },
  {
   "cell_type": "code",
   "execution_count": null,
   "id": "b679b8d6",
   "metadata": {},
   "outputs": [],
   "source": []
  },
  {
   "cell_type": "code",
   "execution_count": null,
   "id": "a0485b75",
   "metadata": {},
   "outputs": [],
   "source": []
  },
  {
   "cell_type": "code",
   "execution_count": 12,
   "id": "6f8272a1",
   "metadata": {},
   "outputs": [],
   "source": [
    "def compute_exact_accuracy(results_df):\n",
    "    sum = 0\n",
    "    for index in range(len(results_df)):\n",
    "        if results_df.loc[index, 'y_M'] == results_df.loc[index, 'pred_M'] and results_df.loc[index, 'y_F'] == results_df.loc[index, 'pred_F']:\n",
    "            sum += 1\n",
    "            \n",
    "    return sum/(index+1)\n",
    "        "
   ]
  },
  {
   "cell_type": "code",
   "execution_count": 13,
   "id": "9d5a34c6",
   "metadata": {},
   "outputs": [
    {
     "data": {
      "text/plain": [
       "0.25"
      ]
     },
     "execution_count": 13,
     "metadata": {},
     "output_type": "execute_result"
    }
   ],
   "source": [
    "compute_exact_accuracy(full_preds_df)"
   ]
  },
  {
   "cell_type": "code",
   "execution_count": 20,
   "id": "a8369931",
   "metadata": {},
   "outputs": [],
   "source": [
    "def compute_sex_error_rate(results_df):\n",
    "    errors_dict = {'M' :0 ,'F' : 0}\n",
    "    \n",
    "    for index in range(len(results_df)):\n",
    "        if results_df.loc[index, 'y_M'] == 0:\n",
    "            errors_dict['M'] += results_df.loc[index, 'pred_M']\n",
    "            \n",
    "        else :\n",
    "            errors_dict['M'] += (results_df.loc[index, 'y_M'] + results_df.loc[index, 'pred_M'])/results_df.loc[index, 'y_M']\n",
    "            \n",
    "        \n",
    "        if results_df.loc[index, 'y_F'] == 0:\n",
    "            errors_dict['F'] += results_df.loc[index, 'pred_F']\n",
    "            \n",
    "        else :\n",
    "            errors_dict['F'] += (results_df.loc[index, 'y_F'] + results_df.loc[index, 'pred_F'])/results_df.loc[index, 'y_F']\n",
    "            \n",
    "        \n",
    "    return {'M' : errors_dict['M']/(index +1), 'F' : errors_dict['F']/(index+1)}\n",
    "            \n",
    "    "
   ]
  },
  {
   "cell_type": "code",
   "execution_count": 21,
   "id": "1bbbaabc",
   "metadata": {},
   "outputs": [
    {
     "data": {
      "text/plain": [
       "{'M': 1.3333333333333335, 'F': 1.0}"
      ]
     },
     "execution_count": 21,
     "metadata": {},
     "output_type": "execute_result"
    }
   ],
   "source": [
    "compute_sex_error_rate(full_preds_df)"
   ]
  },
  {
   "cell_type": "code",
   "execution_count": null,
   "id": "79e43012",
   "metadata": {},
   "outputs": [],
   "source": []
  }
 ],
 "metadata": {
  "kernelspec": {
   "display_name": "Python 3 (ipykernel)",
   "language": "python",
   "name": "python3"
  },
  "language_info": {
   "codemirror_mode": {
    "name": "ipython",
    "version": 3
   },
   "file_extension": ".py",
   "mimetype": "text/x-python",
   "name": "python",
   "nbconvert_exporter": "python",
   "pygments_lexer": "ipython3",
   "version": "3.9.12"
  }
 },
 "nbformat": 4,
 "nbformat_minor": 5
}
