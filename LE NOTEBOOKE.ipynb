{
 "cells": [
  {
   "cell_type": "code",
   "execution_count": 1,
   "id": "28688d10",
   "metadata": {},
   "outputs": [
    {
     "name": "stderr",
     "output_type": "stream",
     "text": [
      "/home/stagiaire/anaconda3/envs/hackatoche/lib/python3.9/site-packages/pydub/utils.py:170: RuntimeWarning: Couldn't find ffmpeg or avconv - defaulting to ffmpeg, but may not work\n",
      "  warn(\"Couldn't find ffmpeg or avconv - defaulting to ffmpeg, but may not work\", RuntimeWarning)\n"
     ]
    }
   ],
   "source": [
    "from utils import make_all_preds"
   ]
  },
  {
   "cell_type": "code",
   "execution_count": 9,
   "id": "5349deb1",
   "metadata": {},
   "outputs": [],
   "source": [
    "import os\n",
    "import pandas as pd\n",
    "import numpy as np"
   ]
  },
  {
   "cell_type": "code",
   "execution_count": 10,
   "id": "d69f8029",
   "metadata": {},
   "outputs": [],
   "source": [
    "data_root = 'data'"
   ]
  },
  {
   "cell_type": "code",
   "execution_count": 11,
   "id": "a3fd1b2a",
   "metadata": {},
   "outputs": [
    {
     "name": "stdout",
     "output_type": "stream",
     "text": [
      "Loaded the voice encoder model on cpu in 0.01 seconds.\n"
     ]
    },
    {
     "name": "stderr",
     "output_type": "stream",
     "text": [
      "  0%|                                                                                                                                                                                | 0/8 [00:00<?, ?it/s]/home/stagiaire/anaconda3/envs/hackatoche/lib/python3.9/site-packages/resemblyzer/audio.py:33: FutureWarning: Pass orig_sr=11025, target_sr=16000 as keyword args. From version 0.10 passing these as positional arguments will result in an error\n",
      "  wav = librosa.resample(wav, source_sr, sampling_rate)\n",
      "/home/stagiaire/anaconda3/envs/hackatoche/lib/python3.9/site-packages/resemblyzer/audio.py:47: FutureWarning: Pass y=[ 7.0512492e-06  3.5625715e-05 -4.3875185e-05 ...  0.0000000e+00\n",
      "  0.0000000e+00  0.0000000e+00], sr=16000 as keyword args. From version 0.10 passing these as positional arguments will result in an error\n",
      "  frames = librosa.feature.melspectrogram(\n",
      " 12%|█████████████████████                                                                                                                                                   | 1/8 [00:00<00:00,  7.18it/s]/home/stagiaire/anaconda3/envs/hackatoche/lib/python3.9/site-packages/resemblyzer/audio.py:33: FutureWarning: Pass orig_sr=11025, target_sr=16000 as keyword args. From version 0.10 passing these as positional arguments will result in an error\n",
      "  wav = librosa.resample(wav, source_sr, sampling_rate)\n",
      "/home/stagiaire/anaconda3/envs/hackatoche/lib/python3.9/site-packages/resemblyzer/audio.py:47: FutureWarning: Pass y=[0.00797785 0.00866597 0.00680679 ... 0.         0.         0.        ], sr=16000 as keyword args. From version 0.10 passing these as positional arguments will result in an error\n",
      "  frames = librosa.feature.melspectrogram(\n",
      " 25%|██████████████████████████████████████████                                                                                                                              | 2/8 [00:00<00:00,  6.24it/s]/home/stagiaire/anaconda3/envs/hackatoche/lib/python3.9/site-packages/resemblyzer/audio.py:33: FutureWarning: Pass orig_sr=11025, target_sr=16000 as keyword args. From version 0.10 passing these as positional arguments will result in an error\n",
      "  wav = librosa.resample(wav, source_sr, sampling_rate)\n",
      "/home/stagiaire/anaconda3/envs/hackatoche/lib/python3.9/site-packages/resemblyzer/audio.py:47: FutureWarning: Pass y=[0.07304604 0.06639861 0.06056455 ... 0.         0.         0.        ], sr=16000 as keyword args. From version 0.10 passing these as positional arguments will result in an error\n",
      "  frames = librosa.feature.melspectrogram(\n",
      " 38%|███████████████████████████████████████████████████████████████                                                                                                         | 3/8 [00:00<00:01,  2.99it/s]/home/stagiaire/anaconda3/envs/hackatoche/lib/python3.9/site-packages/resemblyzer/audio.py:33: FutureWarning: Pass orig_sr=11025, target_sr=16000 as keyword args. From version 0.10 passing these as positional arguments will result in an error\n",
      "  wav = librosa.resample(wav, source_sr, sampling_rate)\n",
      "/home/stagiaire/anaconda3/envs/hackatoche/lib/python3.9/site-packages/resemblyzer/audio.py:47: FutureWarning: Pass y=[ 0.0077671  -0.00073034 -0.01106744 ...  0.          0.\n",
      "  0.        ], sr=16000 as keyword args. From version 0.10 passing these as positional arguments will result in an error\n",
      "  frames = librosa.feature.melspectrogram(\n",
      " 50%|████████████████████████████████████████████████████████████████████████████████████                                                                                    | 4/8 [00:01<00:02,  1.69it/s]/home/stagiaire/anaconda3/envs/hackatoche/lib/python3.9/site-packages/resemblyzer/audio.py:33: FutureWarning: Pass orig_sr=11025, target_sr=16000 as keyword args. From version 0.10 passing these as positional arguments will result in an error\n",
      "  wav = librosa.resample(wav, source_sr, sampling_rate)\n",
      "/home/stagiaire/anaconda3/envs/hackatoche/lib/python3.9/site-packages/resemblyzer/audio.py:47: FutureWarning: Pass y=[-0.00775826 -0.00883509 -0.00688228 ...  0.          0.\n",
      "  0.        ], sr=16000 as keyword args. From version 0.10 passing these as positional arguments will result in an error\n",
      "  frames = librosa.feature.melspectrogram(\n",
      " 62%|█████████████████████████████████████████████████████████████████████████████████████████████████████████                                                               | 5/8 [00:02<00:01,  1.78it/s]/home/stagiaire/anaconda3/envs/hackatoche/lib/python3.9/site-packages/resemblyzer/audio.py:33: FutureWarning: Pass orig_sr=11025, target_sr=16000 as keyword args. From version 0.10 passing these as positional arguments will result in an error\n",
      "  wav = librosa.resample(wav, source_sr, sampling_rate)\n",
      "/home/stagiaire/anaconda3/envs/hackatoche/lib/python3.9/site-packages/resemblyzer/audio.py:47: FutureWarning: Pass y=[ 3.5515695e-04 -4.4253020e-04 -2.9901041e-05 ...  0.0000000e+00\n",
      "  0.0000000e+00  0.0000000e+00], sr=16000 as keyword args. From version 0.10 passing these as positional arguments will result in an error\n",
      "  frames = librosa.feature.melspectrogram(\n",
      " 75%|██████████████████████████████████████████████████████████████████████████████████████████████████████████████████████████████                                          | 6/8 [00:04<00:02,  1.01s/it]/home/stagiaire/anaconda3/envs/hackatoche/lib/python3.9/site-packages/resemblyzer/audio.py:33: FutureWarning: Pass orig_sr=11025, target_sr=16000 as keyword args. From version 0.10 passing these as positional arguments will result in an error\n",
      "  wav = librosa.resample(wav, source_sr, sampling_rate)\n",
      "/home/stagiaire/anaconda3/envs/hackatoche/lib/python3.9/site-packages/resemblyzer/audio.py:47: FutureWarning: Pass y=[0.00082712 0.01014584 0.01866149 ... 0.         0.         0.        ], sr=16000 as keyword args. From version 0.10 passing these as positional arguments will result in an error\n",
      "  frames = librosa.feature.melspectrogram(\n",
      " 88%|███████████████████████████████████████████████████████████████████████████████████████████████████████████████████████████████████████████████████                     | 7/8 [00:04<00:00,  1.38it/s]/home/stagiaire/anaconda3/envs/hackatoche/lib/python3.9/site-packages/resemblyzer/audio.py:33: FutureWarning: Pass orig_sr=11025, target_sr=16000 as keyword args. From version 0.10 passing these as positional arguments will result in an error\n",
      "  wav = librosa.resample(wav, source_sr, sampling_rate)\n",
      "/home/stagiaire/anaconda3/envs/hackatoche/lib/python3.9/site-packages/resemblyzer/audio.py:47: FutureWarning: Pass y=[ 0.00099606  0.00095422 -0.00304923 ...  0.          0.\n",
      "  0.        ], sr=16000 as keyword args. From version 0.10 passing these as positional arguments will result in an error\n",
      "  frames = librosa.feature.melspectrogram(\n",
      "100%|████████████████████████████████████████████████████████████████████████████████████████████████████████████████████████████████████████████████████████████████████████| 8/8 [00:05<00:00,  1.59it/s]\n"
     ]
    },
    {
     "data": {
      "text/html": [
       "<div>\n",
       "<style scoped>\n",
       "    .dataframe tbody tr th:only-of-type {\n",
       "        vertical-align: middle;\n",
       "    }\n",
       "\n",
       "    .dataframe tbody tr th {\n",
       "        vertical-align: top;\n",
       "    }\n",
       "\n",
       "    .dataframe thead th {\n",
       "        text-align: right;\n",
       "    }\n",
       "</style>\n",
       "<table border=\"1\" class=\"dataframe\">\n",
       "  <thead>\n",
       "    <tr style=\"text-align: right;\">\n",
       "      <th></th>\n",
       "      <th>sound_clip_id</th>\n",
       "      <th>y_M</th>\n",
       "      <th>y_F</th>\n",
       "      <th>y_NA</th>\n",
       "      <th>y_NB</th>\n",
       "      <th>pred_F</th>\n",
       "      <th>pref_M</th>\n",
       "    </tr>\n",
       "  </thead>\n",
       "  <tbody>\n",
       "    <tr>\n",
       "      <th>0</th>\n",
       "      <td>2</td>\n",
       "      <td>0</td>\n",
       "      <td>1</td>\n",
       "      <td>0</td>\n",
       "      <td>0</td>\n",
       "      <td>2</td>\n",
       "      <td>0</td>\n",
       "    </tr>\n",
       "    <tr>\n",
       "      <th>1</th>\n",
       "      <td>4</td>\n",
       "      <td>1</td>\n",
       "      <td>0</td>\n",
       "      <td>0</td>\n",
       "      <td>0</td>\n",
       "      <td>2</td>\n",
       "      <td>0</td>\n",
       "    </tr>\n",
       "    <tr>\n",
       "      <th>2</th>\n",
       "      <td>5</td>\n",
       "      <td>3</td>\n",
       "      <td>0</td>\n",
       "      <td>0</td>\n",
       "      <td>0</td>\n",
       "      <td>0</td>\n",
       "      <td>2</td>\n",
       "    </tr>\n",
       "    <tr>\n",
       "      <th>3</th>\n",
       "      <td>6</td>\n",
       "      <td>1</td>\n",
       "      <td>0</td>\n",
       "      <td>0</td>\n",
       "      <td>0</td>\n",
       "      <td>2</td>\n",
       "      <td>0</td>\n",
       "    </tr>\n",
       "    <tr>\n",
       "      <th>4</th>\n",
       "      <td>7</td>\n",
       "      <td>2</td>\n",
       "      <td>0</td>\n",
       "      <td>0</td>\n",
       "      <td>0</td>\n",
       "      <td>2</td>\n",
       "      <td>0</td>\n",
       "    </tr>\n",
       "    <tr>\n",
       "      <th>5</th>\n",
       "      <td>9</td>\n",
       "      <td>1</td>\n",
       "      <td>0</td>\n",
       "      <td>0</td>\n",
       "      <td>0</td>\n",
       "      <td>0</td>\n",
       "      <td>2</td>\n",
       "    </tr>\n",
       "    <tr>\n",
       "      <th>6</th>\n",
       "      <td>11</td>\n",
       "      <td>1</td>\n",
       "      <td>0</td>\n",
       "      <td>0</td>\n",
       "      <td>0</td>\n",
       "      <td>1</td>\n",
       "      <td>1</td>\n",
       "    </tr>\n",
       "    <tr>\n",
       "      <th>7</th>\n",
       "      <td>12</td>\n",
       "      <td>2</td>\n",
       "      <td>0</td>\n",
       "      <td>0</td>\n",
       "      <td>0</td>\n",
       "      <td>2</td>\n",
       "      <td>0</td>\n",
       "    </tr>\n",
       "  </tbody>\n",
       "</table>\n",
       "</div>"
      ],
      "text/plain": [
       "  sound_clip_id y_M y_F y_NA y_NB pred_F pref_M\n",
       "0             2   0   1    0    0      2      0\n",
       "1             4   1   0    0    0      2      0\n",
       "2             5   3   0    0    0      0      2\n",
       "3             6   1   0    0    0      2      0\n",
       "4             7   2   0    0    0      2      0\n",
       "5             9   1   0    0    0      0      2\n",
       "6            11   1   0    0    0      1      1\n",
       "7            12   2   0    0    0      2      0"
      ]
     },
     "execution_count": 11,
     "metadata": {},
     "output_type": "execute_result"
    }
   ],
   "source": [
    "make_all_preds(os.path.join(data_root, 'moviesoundclips'))"
   ]
  },
  {
   "cell_type": "code",
   "execution_count": null,
   "id": "fa596457",
   "metadata": {},
   "outputs": [],
   "source": []
  },
  {
   "cell_type": "code",
   "execution_count": null,
   "id": "6f8272a1",
   "metadata": {},
   "outputs": [],
   "source": []
  }
 ],
 "metadata": {
  "kernelspec": {
   "display_name": "Python 3 (ipykernel)",
   "language": "python",
   "name": "python3"
  },
  "language_info": {
   "codemirror_mode": {
    "name": "ipython",
    "version": 3
   },
   "file_extension": ".py",
   "mimetype": "text/x-python",
   "name": "python",
   "nbconvert_exporter": "python",
   "pygments_lexer": "ipython3",
   "version": "3.9.12"
  }
 },
 "nbformat": 4,
 "nbformat_minor": 5
}
